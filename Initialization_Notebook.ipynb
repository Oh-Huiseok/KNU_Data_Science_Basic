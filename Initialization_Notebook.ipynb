{
  "nbformat": 4,
  "nbformat_minor": 0,
  "metadata": {
    "colab": {
      "provenance": [],
      "collapsed_sections": [],
      "include_colab_link": true
    },
    "kernelspec": {
      "name": "python3",
      "display_name": "Python 3"
    },
    "language_info": {
      "name": "python"
    }
  },
  "cells": [
    {
      "cell_type": "markdown",
      "metadata": {
        "id": "view-in-github",
        "colab_type": "text"
      },
      "source": [
        "<a href=\"https://colab.research.google.com/github/Oh-Huiseok/KNU_Data_Science_Basic/blob/main/Initialization_Notebook.ipynb\" target=\"_parent\"><img src=\"https://colab.research.google.com/assets/colab-badge.svg\" alt=\"Open In Colab\"/></a>"
      ]
    },
    {
      "cell_type": "code",
      "metadata": {
        "id": "KcWwBEXioDA2",
        "colab": {
          "base_uri": "https://localhost:8080/"
        },
        "outputId": "f3756bf5-3bbf-401c-a782-77dd10e940e4"
      },
      "source": [
        "# This cell mounts github to google drive\n",
        "import os\n",
        "from google.colab import drive\n",
        "\n",
        "drive.mount('/content/gdrive')\n",
        "\n",
        "%cd /content/gdrive/MyDrive/\n",
        "\n",
        "if os.path.isdir(\"/content/gdrive/MyDrive/ITEC419-fa22\") == True:\n",
        "    print(\"Already git cloned 'ITEC419-fa22.git'\")\n",
        "    %cd ITEC419-fa22/\n",
        "    ! git pull https://github.com/soonkijung/ITEC419-fa22.git\n",
        "else:\n",
        "    # You need to git clone ITEC419-fa22.git\n",
        "    ! git clone https://github.com/soonkijung/ITEC419-fa22.git\n",
        "    %cd ITEC419-fa22/"
      ],
      "execution_count": null,
      "outputs": [
        {
          "output_type": "stream",
          "name": "stdout",
          "text": [
            "Drive already mounted at /content/gdrive; to attempt to forcibly remount, call drive.mount(\"/content/gdrive\", force_remount=True).\n",
            "/content/gdrive/MyDrive\n",
            "Already git cloned 'ITEC419-fa22.git'\n",
            "/content/gdrive/MyDrive/ITEC419-fa22\n",
            "From https://github.com/soonkijung/ITEC419-fa22\n",
            " * branch            HEAD       -> FETCH_HEAD\n",
            "Updating 40178f4..6021386\n",
            "error: Your local changes to the following files would be overwritten by merge:\n",
            "\tInitialization Notebook.ipynb\n",
            "\tlec/lec02_0.ipynb\n",
            "Please commit your changes or stash them before you merge.\n",
            "Aborting\n"
          ]
        }
      ]
    }
  ]
}